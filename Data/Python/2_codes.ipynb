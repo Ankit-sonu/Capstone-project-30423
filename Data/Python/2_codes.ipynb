{
 "cells": [
  {
   "cell_type": "code",
   "execution_count": null,
   "id": "56d601ab",
   "metadata": {},
   "outputs": [],
   "source": [
    "#19\n",
    "s = input(\"Enter a string: \")\n",
    "\n",
    "half = len(s) // 2\n",
    "if len(s) % 2 == 0:\n",
    "    first_half = s[:half]\n",
    "    second_half = s[half:]\n",
    "else:\n",
    "    first_half = s[:half]\n",
    "    second_half = s[half+1:]\n",
    "\n",
    "print(\"Symmetrical:\", first_half == second_half)\n",
    "print(\"Palindrome:\", s == s[::-1])"
   ]
  },
  {
   "cell_type": "code",
   "execution_count": null,
   "id": "99ebe320",
   "metadata": {},
   "outputs": [],
   "source": [
    "#20\n",
    "s = input(\"Enter a string : \")\n",
    "vowels = set(\"aeiou\")\n",
    "\n",
    "if vowels.issubset(set(s.lower())):\n",
    "    print(f\"'{s}' contains all vowels.\")\n",
    "else:\n",
    "    print(f\"'{s}' does not contain all vowels.\")"
   ]
  },
  {
   "cell_type": "code",
   "execution_count": null,
   "id": "ff70a667",
   "metadata": {},
   "outputs": [],
   "source": [
    "#21\n",
    "s = input(\"Enter a string: \")\n",
    "words = s.split()\n",
    "seen = set()\n",
    "result = []\n",
    "\n",
    "for word in words:\n",
    "    lower_word = word.lower()\n",
    "    if lower_word not in seen:\n",
    "        seen.add(lower_word)\n",
    "        result.append(word)\n",
    "\n",
    "print(\"After removing duplicates:\", ' '.join(result))"
   ]
  },
  {
   "cell_type": "code",
   "execution_count": null,
   "id": "f1aa8d88",
   "metadata": {},
   "outputs": [],
   "source": [
    "#22\n",
    "s = input(\"Enter a string: \")\n",
    "special_chars = string.punctuation\n",
    "count = 0\n",
    "\n",
    "for char in s:\n",
    "    if char in special_chars:\n",
    "        count += 1\n",
    "\n",
    "print(\"Special characters count:\", count)\n"
   ]
  },
  {
   "cell_type": "code",
   "execution_count": null,
   "id": "2f57d54f",
   "metadata": {},
   "outputs": [],
   "source": [
    "#23\n",
    "sentence = input(\"Enter a sentence: \")\n",
    "word = input(\"Enter the word to find: \")\n",
    "words = sentence.split()\n",
    "\n",
    "for index in range(len(words)):\n",
    "    if words[index] == word:\n",
    "        print(f\"'{word}' found at position {index}\")"
   ]
  }
 ],
 "metadata": {
  "kernelspec": {
   "display_name": "base",
   "language": "python",
   "name": "python3"
  },
  "language_info": {
   "codemirror_mode": {
    "name": "ipython",
    "version": 3
   },
   "file_extension": ".py",
   "mimetype": "text/x-python",
   "name": "python",
   "nbconvert_exporter": "python",
   "pygments_lexer": "ipython3",
   "version": "3.13.5"
  }
 },
 "nbformat": 4,
 "nbformat_minor": 5
}
