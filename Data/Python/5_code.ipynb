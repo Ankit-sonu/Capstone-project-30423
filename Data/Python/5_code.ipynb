{
 "cells": [
  {
   "cell_type": "code",
   "execution_count": null,
   "id": "5cb8abee",
   "metadata": {
    "vscode": {
     "languageId": "plaintext"
    }
   },
   "outputs": [],
   "source": [
    "import sys\n",
    "inp=sys.argv[1:]\n",
    "num=[]\n",
    "for arg in inp:\n",
    "    num.append(int(arg))\n",
    "total=0\n",
    "for n in num:\n",
    "    total +=n\n",
    "avg=total/len(num)\n",
    "\n",
    "print(\"List: \",num)\n",
    "print(\"Sum: \",total)\n",
    "print(\"Average: \",avg)\n",
    "\n",
    "\n",
    "\n",
    "\n",
    "    "
   ]
  },
  {
   "cell_type": "code",
   "execution_count": null,
   "id": "0806181e",
   "metadata": {
    "vscode": {
     "languageId": "plaintext"
    }
   },
   "outputs": [],
   "source": [
    "import sys\n",
    "import ast\n",
    "def greeting(name):\n",
    "    print(\"Hello \",name, \"Welcome to Python\")\n",
    "\n",
    "def maths(a,b):\n",
    "    print(\"The sum is \",(a+b))\n",
    "    print(\"The product is \",(a*b))\n",
    "    print(\"The quotient is \",(a//b))\n",
    "    print(\"The remainder is \",(a%b))\n",
    "    print(\"The difference  is \" ,(a-b))\n",
    "\n",
    "\n",
    "if __name__ == \"__main__\":\n",
    "    try:\n",
    "        if len(sys.argv) < 4:\n",
    "            print(\"Invalid number of arguments\")\n",
    "        else:\n",
    "            greeting(sys.argv[1])\n",
    "            maths(int(sys.argv[2]), int(sys.argv[3]))\n",
    "            data = ast.literal_eval(sys.argv[4])\n",
    "            for i in data:\n",
    "                print(i)\n",
    "    except Exception as e:\n",
    "        print(\"The exception caught is : \", e)"
   ]
  },
  {
   "cell_type": "code",
   "execution_count": null,
   "id": "3fe0fe28",
   "metadata": {
    "vscode": {
     "languageId": "plaintext"
    }
   },
   "outputs": [],
   "source": [
    "import csv\n",
    "\n",
    "with open(\"employees.csv\",\"r\") as csvfile:\n",
    "   reader = csv.reader(csvfile) \n",
    "   reader.__next__()\n",
    "   for row in reader:\n",
    "        print(row)"
   ]
  },
  {
   "cell_type": "code",
   "execution_count": null,
   "id": "8a61bfaa",
   "metadata": {
    "vscode": {
     "languageId": "plaintext"
    }
   },
   "outputs": [],
   "source": [
    "import csv\n",
    "\n",
    "with open(\"results.csv\",\"r\") as fp:\n",
    "    dictdata = csv.DictReader(fp);\n",
    "    for data in dictdata:\n",
    "        print(f\"{data['Name']} has scored below Marks\" )\n",
    "        print(f\"Maths : {data['Maths']}\")\n",
    "        print(f\"Science : {data['Science']}\")\n",
    "        print(f\"Social : {data['Social']}\")\n",
    "\n"
   ]
  },
  {
   "cell_type": "code",
   "execution_count": null,
   "id": "5a5a7f7e",
   "metadata": {
    "vscode": {
     "languageId": "plaintext"
    }
   },
   "outputs": [],
   "source": [
    "import csv\n",
    "data =[]\n",
    "\n",
    "with open(\"results2.csv\",\"r\") as inputdata:\n",
    "    reader = csv.DictReader(inputdata)\n",
    "\n",
    "    for row in reader:\n",
    "        name = row[\"Name\"]\n",
    "        maths = int(row[\"Maths\"])\n",
    "        science = int(row[\"Science\"])\n",
    "        social = int(row[\"Social\"])\n",
    "        total = maths + science + social\n",
    "        avg = total/3\n",
    "        data.append({\n",
    "            \"Name\": name,\n",
    "            \"Maths\": maths,\n",
    "            \"Science\": science,\n",
    "            \"Social\": social,\n",
    "            \"Total\": total,\n",
    "            \"Avg\": round(avg, 2),\n",
    "        })\n",
    "    fields = [\"Name\",\"Maths\",\"Science\",\"Social\",\"Total\",\"Avg\"]\n",
    "\n",
    "    with open(\"studentresults.csv\",\"w\") as output:\n",
    "        writer = csv.DictWriter(output, fieldnames=fields)\n",
    "        writer.writeheader()\n",
    "        writer.writerows(data)\n",
    "    print(\"Results are processed successfully\")\n",
    "search=input(\"Enter the name: \")\n",
    "found=False\n",
    "for student in data:\n",
    "    if student[\"Name\"].lower() == search.lower():\n",
    "        print(\"Student found\")\n",
    "        for key,value in student.items():\n",
    "            print(f\"{key}: {value}\")\n",
    "        found=True\n",
    "        break\n",
    "if not found:\n",
    "    print(\"Student not found\")\n",
    "\n",
    "\n",
    "\n"
   ]
  },
  {
   "cell_type": "code",
   "execution_count": null,
   "id": "4657e0e5",
   "metadata": {
    "vscode": {
     "languageId": "plaintext"
    }
   },
   "outputs": [],
   "source": []
  },
  {
   "cell_type": "code",
   "execution_count": null,
   "id": "c52f7efd",
   "metadata": {
    "vscode": {
     "languageId": "plaintext"
    }
   },
   "outputs": [],
   "source": []
  }
 ],
 "metadata": {
  "language_info": {
   "name": "python"
  }
 },
 "nbformat": 4,
 "nbformat_minor": 5
}
