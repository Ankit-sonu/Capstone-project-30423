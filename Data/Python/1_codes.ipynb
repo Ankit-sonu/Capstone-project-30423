{
 "cells": [
  {
   "cell_type": "code",
   "execution_count": null,
   "id": "fef71bc6",
   "metadata": {},
   "outputs": [],
   "source": [
    "#1\n",
    "\n",
    "fav_colour=input(\"Enter your fav colour: \")\n",
    "print(\"Your fav colour is \",fav_colour)"
   ]
  },
  {
   "cell_type": "code",
   "execution_count": null,
   "id": "72ec2c14",
   "metadata": {},
   "outputs": [],
   "source": [
    "#2\n",
    "\n",
    "x=5\n",
    "y=6\n",
    "print(\"Sum of x and y is \",x+y)"
   ]
  },
  {
   "cell_type": "code",
   "execution_count": null,
   "id": "9044c844",
   "metadata": {},
   "outputs": [],
   "source": [
    "#3\n",
    "a,b,c=10,20,30\n",
    "print(\"The values of a,b and c are \",a,b,c)\n"
   ]
  },
  {
   "cell_type": "code",
   "execution_count": null,
   "id": "013b2683",
   "metadata": {},
   "outputs": [],
   "source": [
    "#4\n",
    "x=3+4j\n",
    "print(\"Complex number is \",x)\n",
    "print(type(x))"
   ]
  },
  {
   "cell_type": "code",
   "execution_count": null,
   "id": "26bb2b02",
   "metadata": {},
   "outputs": [],
   "source": [
    "#5\n",
    "\n",
    "x=3+4j\n",
    "print(\"Real part is \",x.real)\n",
    "print(\"Imaginary part is \",x.imag)\n"
   ]
  },
  {
   "cell_type": "code",
   "execution_count": null,
   "id": "39091448",
   "metadata": {},
   "outputs": [],
   "source": [
    "#6\n",
    "x=3+2j\n",
    "y=1+1j\n",
    "\n",
    "print(\"Multiplication: \",x*y)\n",
    "print(\"Division: \",x/y)"
   ]
  },
  {
   "cell_type": "code",
   "execution_count": null,
   "id": "e80b0323",
   "metadata": {},
   "outputs": [],
   "source": [
    "#7\n",
    "score=int(input(\"Enter the student score: \"))\n",
    "if score>=90:\n",
    "    print(\"Grade A\")\n",
    "elif score>=80:\n",
    "    print(\"Grade B\")\n",
    "elif score>=70:\n",
    "    print(\"Grade C\")\n",
    "elif score>=60:\n",
    "    print(\"Grade D\")\n",
    "else:\n",
    "    print(\"Grade E\")                "
   ]
  },
  {
   "cell_type": "code",
   "execution_count": null,
   "id": "134114e6",
   "metadata": {},
   "outputs": [],
   "source": [
    "#8\n",
    "\n",
    "num=float(input(\"Enter the number: \"))\n",
    "if num>=0:\n",
    "    print(\"Positive number\")\n",
    "else:\n",
    "    print(\"Negative number\")    "
   ]
  },
  {
   "cell_type": "code",
   "execution_count": null,
   "id": "4553c0d6",
   "metadata": {},
   "outputs": [],
   "source": [
    "#9\n",
    "\n",
    "age=int(input(\"Enter your age: \"))\n",
    "if age>=18:\n",
    "    print(\"Eligible to vote\")\n",
    "else:\n",
    "    print(\"Not eligible\")    "
   ]
  },
  {
   "cell_type": "code",
   "execution_count": null,
   "id": "124a92e8",
   "metadata": {},
   "outputs": [],
   "source": [
    "#10\n",
    "\n",
    "num=float(input(\"Enter the number: \"))\n",
    "if num>0:\n",
    "    print(\"Positive number\")\n",
    "if num<0:\n",
    "    print(\"Negative number\")    \n",
    "else:\n",
    "    print(\"0\")"
   ]
  },
  {
   "cell_type": "code",
   "execution_count": null,
   "id": "fecd2dcd",
   "metadata": {},
   "outputs": [],
   "source": [
    "#11\n",
    "\n",
    "n=int(input(\"Enter the number: \"))\n",
    "if n%2 ==0 and n>10:\n",
    "    print(\"Numer is even and greater than 10\")\n",
    "else:\n",
    "    print(\"fail\")\n"
   ]
  },
  {
   "cell_type": "code",
   "execution_count": null,
   "id": "f9c55d31",
   "metadata": {},
   "outputs": [],
   "source": [
    "#12\n",
    "\n",
    "user=input(\"Enter the username: \")\n",
    "password=input(\"Enter the password: \")\n",
    "\n",
    "if user==\"admin\":\n",
    "    if password==\"1234\":\n",
    "        print(\"Login successful\")\n",
    "    else:\n",
    "        print(\"Invalid Password\")\n",
    "else:\n",
    "    print(\"Invalid User\")    \n",
    "\n",
    "\n"
   ]
  },
  {
   "cell_type": "code",
   "execution_count": null,
   "id": "53514600",
   "metadata": {},
   "outputs": [],
   "source": [
    "#13\n",
    "bill=float(input(\"Enter total bill amount: \"))\n",
    "member=input(\"Member or not: \")\n",
    "if member==\"Yes\":\n",
    "    if bill>1000:\n",
    "        discount=0.2\n",
    "    else:\n",
    "        discount=0.10\n",
    "else:\n",
    "    discount=0.0\n",
    "\n",
    "dis_amount=bill*discount\n",
    "disbill=bill-dis_amount\n",
    "\n",
    "gst=disbill*0.05\n",
    "finalbill=disbill+gst\n",
    "\n",
    "dessert=finalbill>1200\n",
    "\n",
    "print(\"-------------Bill SUmmary-------------\")\n",
    "print(\"Original Bill: \",bill)\n",
    "print(\"Discount:\",discount)\n",
    "print(\"Discounter Bill: \",disbill)\n",
    "print(\"GST: \",gst)\n",
    "print(\"Final Bill: \",finalbill)\n",
    "if dessert:\n",
    "    print(\"You get a free dessert\")\n",
    "else:\n",
    "    print(\"Buy more for free dessert\")    \n",
    "\n"
   ]
  },
  {
   "cell_type": "code",
   "execution_count": null,
   "id": "b9e5d939",
   "metadata": {},
   "outputs": [],
   "source": [
    "#14\n",
    "\n",
    "base_fare=100\n",
    "age=int(input(\"Enter your age: \"))\n",
    "time=int(input(\"Enter hour of travel: \"))\n",
    "member=int(input(\"do you have membership card: \"))\n",
    "\n",
    "if age<5:\n",
    "    fare=0\n",
    "    note=\"Free ride for below 5\"\n",
    "else:\n",
    "    if 5<= age<=18:\n",
    "        discount=0.50\n",
    "    elif 19<=age<=60:\n",
    "        discount*0\n",
    "    else:\n",
    "        discount=0.30\n",
    "\n",
    "fare=base_fare*(1-discount)\n",
    "if(7<=time<=10) or (17<=time<=20):\n",
    "    surcharge=fare*0.10\n",
    "    fare+=surcharge\n",
    "    surcharge_app=True\n",
    "else:\n",
    "    surcharge_app=False\n",
    "\n",
    "if member==\"yes\":\n",
    "    member_discount=fare*0.05\n",
    "    fare-=member_discount\n",
    "else:\n",
    "    member_discount=0\n",
    "\n",
    "print(\"-----------Fare summary-------\")\n",
    "print(\"Age\",age)\n",
    "print(\"Time of travel\",time)\n",
    "print(\"fare\",fare)\n",
    "    \n",
    "\n",
    "        \n",
    "\n"
   ]
  },
  {
   "cell_type": "code",
   "execution_count": null,
   "id": "3ea3323c",
   "metadata": {},
   "outputs": [
    {
     "name": "stdout",
     "output_type": "stream",
     "text": [
      "Factorial of 5 is 120\n"
     ]
    }
   ],
   "source": [
    "#15\n",
    "\n",
    "num = int(input(\"Enter a number: \"))\n",
    "factorial = 1\n",
    "for i in range(1, num + 1):\n",
    "     factorial *= i\n",
    "print(f\"Factorial of {num} is {factorial}\")"
   ]
  },
  {
   "cell_type": "code",
   "execution_count": null,
   "id": "f0747808",
   "metadata": {},
   "outputs": [
    {
     "name": "stdout",
     "output_type": "stream",
     "text": [
      "5 is a prime number\n"
     ]
    }
   ],
   "source": [
    "#16\n",
    "\n",
    "num = int(input(\"Enter a number: \"))\n",
    "if num <= 1:\n",
    "    print(f\"{num} is not a prime number\")\n",
    "\n",
    "for i in range(2, int(num ** 0.5) + 1):\n",
    "        if num % i == 0:\n",
    "            print(f\"{num} is not a prime number\")\n",
    "        else:\n",
    "             print(f\"{num} is a prime number\")"
   ]
  },
  {
   "cell_type": "code",
   "execution_count": 10,
   "id": "ca279758",
   "metadata": {},
   "outputs": [
    {
     "name": "stdout",
     "output_type": "stream",
     "text": [
      "The sum of the given 3 numbers is 9\n"
     ]
    }
   ],
   "source": [
    "#17\n",
    "\n",
    "n = int(input(\"Enter how many numbers you want to sum: \"))\n",
    "total = 0\n",
    "for i in range(n):\n",
    "        number = int(input(f\"Enter number {i+1}: \"))\n",
    "        total += number\n",
    "print(f\"The sum of the given {n} numbers is {total}\")"
   ]
  },
  {
   "cell_type": "code",
   "execution_count": null,
   "id": "7eae43f8",
   "metadata": {},
   "outputs": [
    {
     "name": "stdout",
     "output_type": "stream",
     "text": [
      "444 is not an Armstrong number\n"
     ]
    }
   ],
   "source": [
    "#18\n",
    "\n",
    "num = int(input(\"Enter a number: \"))\n",
    "sum= 0\n",
    "temp = num\n",
    "num_digits = len(str(num))\n",
    "while temp > 0:\n",
    "        digit = temp % 10\n",
    "        sum+= digit ** num_digits\n",
    "        temp //= 10\n",
    "if num == sum:\n",
    "        print(f\"{num} is an Armstrong number\")\n",
    "else:\n",
    "        print(f\"{num} is not an Armstrong number\")"
   ]
  },
  {
   "cell_type": "code",
   "execution_count": null,
   "id": "dfb3c6d4",
   "metadata": {},
   "outputs": [],
   "source": []
  }
 ],
 "metadata": {
  "kernelspec": {
   "display_name": "base",
   "language": "python",
   "name": "python3"
  },
  "language_info": {
   "codemirror_mode": {
    "name": "ipython",
    "version": 3
   },
   "file_extension": ".py",
   "mimetype": "text/x-python",
   "name": "python",
   "nbconvert_exporter": "python",
   "pygments_lexer": "ipython3",
   "version": "3.13.5"
  }
 },
 "nbformat": 4,
 "nbformat_minor": 5
}
