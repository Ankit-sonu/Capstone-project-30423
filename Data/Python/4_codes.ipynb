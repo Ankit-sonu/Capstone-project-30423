{
 "cells": [
  {
   "cell_type": "code",
   "execution_count": null,
   "id": "ed8926e1",
   "metadata": {},
   "outputs": [],
   "source": [
    "a = int(input(\"Enter a number\"))\n",
    "b = int(input(\"enter another number\"))\n",
    "c = a/b\n",
    "print(\"The c is \",c)"
   ]
  },
  {
   "cell_type": "code",
   "execution_count": null,
   "id": "2adabb6e",
   "metadata": {},
   "outputs": [],
   "source": [
    "try:\n",
    "    a = int(input(\"Enter a number\"))\n",
    "    b = int(input(\"enter another number\"))\n",
    "    c = a/b\n",
    "    str = \"Hai\"\n",
    "    print(\"The c is \",c)\n",
    "    print(str[8])\n",
    "except ZeroDivisionError:\n",
    "    b = int(input(\"The b value is zero, division is not possible, so re enter the value\"))\n",
    "    c = a/b\n",
    "    print(\"The c is \",c)\n",
    "finally: \n",
    "   print(\"Inside the finally block\")\n",
    "print(\"After the finally block\")"
   ]
  },
  {
   "cell_type": "code",
   "execution_count": null,
   "id": "c1b8c625",
   "metadata": {},
   "outputs": [],
   "source": [
    "try:\n",
    "    a = int(input(\"Enter a number\"))\n",
    "    b = int(input(\"enter another number\"))\n",
    "    c = a/b\n",
    "    str = \"Hai\"\n",
    "    print(\"The c is \",c)\n",
    "    print(str[1])\n",
    "    data = {\"name\":\"anil\", \"age\":40, \"city\":\"Hyderabad\"}\n",
    "    print(data[\"age\"])\n",
    "    file = open(\"zyx.txt\")\n",
    "    print(file.read())\n",
    "except ZeroDivisionError:\n",
    "    b = int(input(\"The b value is zero, division is not possible, so re enter the value\"))\n",
    "    c = a/b\n",
    "    print(\"The c is \",c)\n",
    "except IndexError:\n",
    "    print(\"you have index not in the string\")\n",
    "except KeyError:\n",
    "    print(\"the key provided is not in dictironary\")\n",
    "    key = input(\"Enter the valid key\")\n",
    "    print(data[key])\n",
    "except Exception as e:\n",
    "    print(\"THe exception is caught\")\n",
    "    print(type(e))\n",
    "else:\n",
    "    print(\"The Errors not occured\")\n",
    "finally: \n",
    "   print(\"Inside the finally block\")\n",
    "print(\"After the finally block\")"
   ]
  },
  {
   "cell_type": "code",
   "execution_count": null,
   "id": "659531b3",
   "metadata": {},
   "outputs": [],
   "source": [
    "class TestException(Exception):\n",
    "    def __init__(self):\n",
    "        super().__init__(\"This is a test exception\")"
   ]
  },
  {
   "cell_type": "code",
   "execution_count": null,
   "id": "a52064ee",
   "metadata": {},
   "outputs": [],
   "source": [
    "try:\n",
    "    a = 10\n",
    "    b = 20\n",
    "    if a < b:\n",
    "        raise TestException\n",
    "    print(\"This is after if block\")\n",
    "except TestException as e:\n",
    "    print(e)"
   ]
  },
  {
   "cell_type": "code",
   "execution_count": null,
   "id": "f6f946ba",
   "metadata": {},
   "outputs": [],
   "source": [
    "class InvalidAgeError(Exception):\n",
    "    def __init__(self):\n",
    "        super().__init__(\"Age cannot be more than 100\")"
   ]
  },
  {
   "cell_type": "code",
   "execution_count": null,
   "id": "146e879d",
   "metadata": {},
   "outputs": [],
   "source": [
    "class NegativeAgeError(Exception):\n",
    "    def __init__(self):\n",
    "        super().__init__(\"Age cannot be negative\")"
   ]
  },
  {
   "cell_type": "code",
   "execution_count": null,
   "id": "375c304a",
   "metadata": {},
   "outputs": [],
   "source": [
    "age = int(input(\"Enter age\"))\n",
    "try:\n",
    "    if age < 0:\n",
    "        raise NegativeAgeError\n",
    "    elif age > 100:\n",
    "        raise InvalidAgeError\n",
    "    else:\n",
    "        print(\"Valid age \")\n",
    "except InvalidAgeError as e:\n",
    "    print(e)\n",
    "except NegativeAgeError as e:\n",
    "    print(e)"
   ]
  },
  {
   "cell_type": "code",
   "execution_count": 1,
   "id": "27416b33",
   "metadata": {},
   "outputs": [
    {
     "name": "stdout",
     "output_type": "stream",
     "text": [
      "Invalid input: Withdrawal amount must be greater than zero.\n"
     ]
    }
   ],
   "source": [
    "def bank_simulator():\n",
    "    try:\n",
    "        \n",
    "        balance_input = input(\"Enter your current balance: \").strip()\n",
    "        if not balance_input:\n",
    "            raise ValueError(\"Balance input cannot be empty.\")\n",
    "        balance = float(balance_input)\n",
    "        if balance < 0:\n",
    "            raise ValueError(\"Balance cannot be negative.\")\n",
    "\n",
    "        withdraw_input = input(\"Enter withdrawal amount: \").strip()\n",
    "        if not withdraw_input:\n",
    "            raise ValueError(\"Withdrawal input cannot be empty.\")\n",
    "        withdraw = float(withdraw_input)\n",
    "        if withdraw <= 0:\n",
    "            raise ValueError(\"Withdrawal amount must be greater than zero.\")\n",
    "\n",
    "        if withdraw > balance:\n",
    "            raise Exception(\"Insufficient funds.\")\n",
    "\n",
    "        balance -= withdraw\n",
    "        print(f\"Withdrawal successful! New balance: {balance:.2f}\")\n",
    "\n",
    "    except ValueError as ve:\n",
    "        print(f\"Invalid input: {ve}\")\n",
    "    except Exception as e:\n",
    "        print(f\"Error: {e}\")\n",
    "\n",
    "\n",
    "bank_simulator()\n"
   ]
  },
  {
   "cell_type": "code",
   "execution_count": null,
   "id": "5ba922e8",
   "metadata": {},
   "outputs": [],
   "source": []
  },
  {
   "cell_type": "code",
   "execution_count": null,
   "id": "ffacaa82",
   "metadata": {},
   "outputs": [],
   "source": []
  },
  {
   "cell_type": "code",
   "execution_count": null,
   "id": "9f407c3a",
   "metadata": {},
   "outputs": [],
   "source": []
  },
  {
   "cell_type": "code",
   "execution_count": null,
   "id": "41baa363",
   "metadata": {},
   "outputs": [],
   "source": []
  },
  {
   "cell_type": "code",
   "execution_count": null,
   "id": "e92f4065",
   "metadata": {},
   "outputs": [],
   "source": []
  },
  {
   "cell_type": "code",
   "execution_count": null,
   "id": "b8732e3d",
   "metadata": {},
   "outputs": [],
   "source": []
  },
  {
   "cell_type": "code",
   "execution_count": null,
   "id": "fd865fbd",
   "metadata": {},
   "outputs": [],
   "source": []
  },
  {
   "cell_type": "code",
   "execution_count": null,
   "id": "39b6fa29",
   "metadata": {},
   "outputs": [],
   "source": []
  },
  {
   "cell_type": "code",
   "execution_count": null,
   "id": "6642f39a",
   "metadata": {},
   "outputs": [],
   "source": []
  },
  {
   "cell_type": "code",
   "execution_count": null,
   "id": "26c1dc5c",
   "metadata": {},
   "outputs": [],
   "source": []
  },
  {
   "cell_type": "code",
   "execution_count": null,
   "id": "54c09a65",
   "metadata": {},
   "outputs": [],
   "source": []
  },
  {
   "cell_type": "code",
   "execution_count": null,
   "id": "a7796aa0",
   "metadata": {},
   "outputs": [],
   "source": []
  },
  {
   "cell_type": "code",
   "execution_count": null,
   "id": "ea7d2fcd",
   "metadata": {},
   "outputs": [],
   "source": []
  },
  {
   "cell_type": "code",
   "execution_count": null,
   "id": "c3819c6b",
   "metadata": {},
   "outputs": [],
   "source": []
  },
  {
   "cell_type": "code",
   "execution_count": null,
   "id": "c612b3b5",
   "metadata": {},
   "outputs": [],
   "source": []
  },
  {
   "cell_type": "code",
   "execution_count": null,
   "id": "ba32d3fd",
   "metadata": {},
   "outputs": [],
   "source": []
  },
  {
   "cell_type": "code",
   "execution_count": null,
   "id": "10cddd76",
   "metadata": {},
   "outputs": [],
   "source": []
  },
  {
   "cell_type": "code",
   "execution_count": null,
   "id": "c5b77f0d",
   "metadata": {},
   "outputs": [],
   "source": []
  },
  {
   "cell_type": "code",
   "execution_count": null,
   "id": "63392bca",
   "metadata": {},
   "outputs": [],
   "source": []
  },
  {
   "cell_type": "code",
   "execution_count": null,
   "id": "cfe7ab85",
   "metadata": {},
   "outputs": [],
   "source": []
  },
  {
   "cell_type": "code",
   "execution_count": null,
   "id": "69696440",
   "metadata": {},
   "outputs": [],
   "source": []
  }
 ],
 "metadata": {
  "kernelspec": {
   "display_name": "base",
   "language": "python",
   "name": "python3"
  },
  "language_info": {
   "codemirror_mode": {
    "name": "ipython",
    "version": 3
   },
   "file_extension": ".py",
   "mimetype": "text/x-python",
   "name": "python",
   "nbconvert_exporter": "python",
   "pygments_lexer": "ipython3",
   "version": "3.13.5"
  }
 },
 "nbformat": 4,
 "nbformat_minor": 5
}
