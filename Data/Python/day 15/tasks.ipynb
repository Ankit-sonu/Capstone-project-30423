{
 "cells": [
  {
   "cell_type": "code",
   "id": "5f2ddf72",
   "metadata": {
    "jupyter": {
     "is_executing": true
    }
   },
   "source": [
    "#1\n",
    "a = [1, 2, 3]\n",
    "b = [4]\n",
    "merged = []\n",
    "for i in range(len(a)):\n",
    "    merged.append(a[i])\n",
    "    merged.append(b[i])\n",
    "print(merged)\n"
   ],
   "outputs": [],
   "execution_count": null
  },
  {
   "cell_type": "code",
   "execution_count": 2,
   "metadata": {},
   "outputs": [
    {
     "name": "stdout",
     "output_type": "stream",
     "text": [
      "[2, 3, 1, 4, 5]\n"
     ]
    }
   ],
   "source": [
    "#2\n",
    "lst = [1, 2, 3, 1, 4, 5]\n",
    "max_len = 0\n",
    "start = 0\n",
    "seen = {}\n",
    "res = []\n",
    "\n",
    "for i in range(len(lst)):\n",
    "    if lst[i] in seen and seen[lst[i]] >= start:\n",
    "        start = seen[lst[i]] + 1\n",
    "    seen[lst[i]] = i\n",
    "    if i - start + 1 > max_len:\n",
    "        max_len = i - start + 1\n",
    "        res = lst[start:i+1]\n",
    "print(res)\n"
   ],
   "id": "58d08ee9fe31f681"
  },
  {
   "cell_type": "code",
   "execution_count": 3,
   "metadata": {},
   "outputs": [
    {
     "name": "stdout",
     "output_type": "stream",
     "text": [
      "[2, 2, 2, 4, 4, 1, 3]\n"
     ]
    }
   ],
   "source": [
    "#3\n",
    "lst = [4, 4, 1, 2, 2, 2, 3]\n",
    "freq = {}\n",
    "for i in lst:\n",
    "    if i in freq:\n",
    "        freq[i] += 1\n",
    "    else:\n",
    "        freq[i] = 1\n",
    "\n",
    "result = []\n",
    "for _ in range(len(lst)):\n",
    "    max_key = None\n",
    "    max_count = -1\n",
    "    for k in freq:\n",
    "        if freq[k] > max_count:\n",
    "            max_count = freq[k]\n",
    "            max_key = k\n",
    "    result.extend([max_key]*max_count)\n",
    "    freq[max_key] = -1\n",
    "print(result)\n"
   ],
   "id": "35103b12c5bc365d"
  },
  {
   "cell_type": "code",
   "execution_count": 4,
   "id": "a18f36d0",
   "metadata": {},
   "outputs": [
    {
     "name": "stdout",
     "output_type": "stream",
     "text": [
      "['#sunshine', '#vacation']\n"
     ]
    }
   ],
   "source": [
    "#4\n",
    "import re\n",
    "text = \"Loving  #sunshine and #vacation\"\n",
    "hashtags = re.findall(r\"#\\w+\", text)\n",
    "print(hashtags)\n"
   ]
  },
  {
   "cell_type": "code",
   "execution_count": 5,
   "id": "0e7331a8",
   "metadata": {},
   "outputs": [
    {
     "name": "stdout",
     "output_type": "stream",
     "text": [
      "Strong Password\n"
     ]
    }
   ],
   "source": [
    "#5\n",
    "password = \"Strong@123\"\n",
    "has_upper = has_lower = has_digit = has_special = False\n",
    "\n",
    "for c in password:\n",
    "    if 'A' <= c <= 'Z':\n",
    "        has_upper = True\n",
    "    elif 'a' <= c <= 'z':\n",
    "        has_lower = True\n",
    "    elif '0' <= c <= '9':\n",
    "        has_digit = True\n",
    "    else:\n",
    "        has_special = True\n",
    "\n",
    "if has_upper and has_lower and has_digit and has_special:\n",
    "    print(\"Strong Password\")\n",
    "else:\n",
    "    print(\"Weak Password\")\n"
   ]
  },
  {
   "cell_type": "code",
   "execution_count": 6,
   "id": "e18fff68",
   "metadata": {},
   "outputs": [
    {
     "name": "stdout",
     "output_type": "stream",
     "text": [
      "[24, 12, 8, 6]\n"
     ]
    }
   ],
   "source": [
    "#6\n",
    "lst = [1, 2, 3, 4]\n",
    "n = len(lst)\n",
    "res = [1]*n\n",
    "\n",
    "left = 1\n",
    "for i in range(n):\n",
    "    res[i] = left\n",
    "    left *= lst[i]\n",
    "\n",
    "right = 1\n",
    "for i in range(n-1, -1, -1):\n",
    "    res[i] *= right\n",
    "    right *= lst[i]\n",
    "\n",
    "print(res)\n"
   ]
  },
  {
   "cell_type": "code",
   "execution_count": 7,
   "metadata": {},
   "outputs": [
    {
     "name": "stdout",
     "output_type": "stream",
     "text": [
      "[4, 3, 2, 1]\n"
     ]
    }
   ],
   "source": [
    "#7\n",
    "lst = [1, 2, 3, 4]\n",
    "reversed_lst = []\n",
    "for i in range(len(lst)-1, -1, -1):\n",
    "    reversed_lst.append(lst[i])\n",
    "print(reversed_lst)\n"
   ],
   "id": "bf858635ca40fadb"
  },
  {
   "cell_type": "code",
   "execution_count": 8,
   "metadata": {},
   "outputs": [
    {
     "name": "stdout",
     "output_type": "stream",
     "text": [
      "[1, 2, 3, 4, 5, 6]\n"
     ]
    }
   ],
   "source": [
    "#8\n",
    "a = [1, 3, 5]\n",
    "b = [2, 4, 6]\n",
    "i = j = 0\n",
    "merged = []\n",
    "while i < len(a) and j < len(b):\n",
    "    if a[i] < b[j]:\n",
    "        merged.append(a[i])\n",
    "        i += 1\n",
    "    else:\n",
    "        merged.append(b[j])\n",
    "        j += 1\n",
    "while i < len(a):\n",
    "    merged.append(a[i])\n",
    "    i += 1\n",
    "while j < len(b):\n",
    "    merged.append(b[j])\n",
    "    j += 1\n",
    "print(merged)\n"
   ],
   "id": "84c46b8b5d510575"
  },
  {
   "cell_type": "code",
   "execution_count": 9,
   "id": "5a024321",
   "metadata": {},
   "outputs": [
    {
     "name": "stdout",
     "output_type": "stream",
     "text": [
      "Equal\n"
     ]
    }
   ],
   "source": [
    "#9\n",
    "t1 = (1, 2, 3)\n",
    "t2 = (3, 2, 1)\n",
    "equal = True\n",
    "if len(t1) != len(t2):\n",
    "    equal = False\n",
    "else:\n",
    "    for i in t1:\n",
    "        if t1.count(i) != t2.count(i):\n",
    "            equal = False\n",
    "            break\n",
    "print(\"Equal\" if equal else \"Not Equal\")\n"
   ]
  },
  {
   "cell_type": "code",
   "execution_count": 10,
   "metadata": {},
   "outputs": [
    {
     "name": "stdout",
     "output_type": "stream",
     "text": [
      "Vowels: 3 Consonants: 7 Digits: 3 Special: 3\n"
     ]
    }
   ],
   "source": [
    "#10\n",
    "s = \"Hello World! 123\"\n",
    "vowels = consonants = digits = special = 0\n",
    "for c in s:\n",
    "    if c.lower() in 'aeiou':\n",
    "        vowels += 1\n",
    "    elif c.isalpha():\n",
    "        consonants += 1\n",
    "    elif c.isdigit():\n",
    "        digits += 1\n",
    "    else:\n",
    "        special += 1\n",
    "print(\"Vowels:\", vowels, \"Consonants:\", consonants, \"Digits:\", digits, \"Special:\", special)\n"
   ],
   "id": "c323157886236360"
  },
  {
   "cell_type": "code",
   "execution_count": 11,
   "id": "a05e295a",
   "metadata": {},
   "outputs": [
    {
     "name": "stdout",
     "output_type": "stream",
     "text": [
      "Palindrome\n"
     ]
    }
   ],
   "source": [
    "#11\n",
    "s = \"madam\"\n",
    "is_palindrome = True\n",
    "for i in range(len(s)//2):\n",
    "    if s[i] != s[len(s)-1-i]:\n",
    "        is_palindrome = False\n",
    "        break\n",
    "print(\"Palindrome\" if is_palindrome else \"Not Palindrome\")\n"
   ]
  },
  {
   "cell_type": "code",
   "execution_count": 12,
   "id": "ef7e79a1",
   "metadata": {},
   "outputs": [
    {
     "name": "stdout",
     "output_type": "stream",
     "text": [
      "[(2, 1), (3, 2), (1, 3)]\n"
     ]
    }
   ],
   "source": [
    "#12\n",
    "lst = [(1, 3), (2, 1), (3, 2)]\n",
    "for i in range(len(lst)):\n",
    "    for j in range(i+1, len(lst)):\n",
    "        if lst[i][1] > lst[j][1]:\n",
    "            lst[i], lst[j] = lst[j], lst[i]\n",
    "print(lst)\n"
   ]
  },
  {
   "cell_type": "code",
   "execution_count": 13,
   "metadata": {},
   "outputs": [
    {
     "name": "stdout",
     "output_type": "stream",
     "text": [
      "[(2, 1), (3, 2), (1, 3)]\n"
     ]
    }
   ],
   "source": [
    "#13\n",
    "lst = [(1, 3), (2, 1), (3, 2)]\n",
    "for i in range(len(lst)):\n",
    "    for j in range(i+1, len(lst)):\n",
    "        if lst[i][1] > lst[j][1]:\n",
    "            lst[i], lst[j] = lst[j], lst[i]\n",
    "print(lst)\n"
   ],
   "id": "464d8fb2299439f6"
  },
  {
   "cell_type": "code",
   "execution_count": 14,
   "metadata": {},
   "outputs": [
    {
     "name": "stdout",
     "output_type": "stream",
     "text": [
      "[2, 3]\n"
     ]
    }
   ],
   "source": [
    "#14\n",
    "a = {1, 2, 3}\n",
    "b = {2, 3, 4}\n",
    "c = {3, 2, 5}\n",
    "common = []\n",
    "\n",
    "for i in a:\n",
    "    if i in b and i in c:\n",
    "        common.append(i)\n",
    "print(common)\n"
   ],
   "id": "6f2d34763d0730cb"
  },
  {
   "cell_type": "code",
   "execution_count": 15,
   "id": "dd6a703e",
   "metadata": {},
   "outputs": [
    {
     "name": "stdout",
     "output_type": "stream",
     "text": [
      "[1, 2, 4, 5]\n"
     ]
    }
   ],
   "source": [
    "#15\n",
    "a = {1, 2, 3}\n",
    "b = {3, 4, 5}\n",
    "unique = []\n",
    "\n",
    "for i in a:\n",
    "    if i not in b:\n",
    "        unique.append(i)\n",
    "for i in b:\n",
    "    if i not in a:\n",
    "        unique.append(i)\n",
    "print(unique)\n"
   ]
  },
  {
   "cell_type": "code",
   "execution_count": 16,
   "id": "7dfa97ed",
   "metadata": {},
   "outputs": [
    {
     "name": "stdout",
     "output_type": "stream",
     "text": [
      "[(1, 2), (3, 4)]\n"
     ]
    }
   ],
   "source": [
    "#16\n",
    "lst = [(1,2), (2,1), (3,4)]\n",
    "seen = []\n",
    "result = []\n",
    "\n",
    "for t in lst:\n",
    "    if t not in seen and (t[1], t[0]) not in seen:\n",
    "        result.append(t)\n",
    "        seen.append(t)\n",
    "print(result)\n"
   ]
  },
  {
   "cell_type": "code",
   "execution_count": 17,
   "id": "e9e87992",
   "metadata": {},
   "outputs": [
    {
     "name": "stdout",
     "output_type": "stream",
     "text": [
      "hello -> 3\n",
      "world -> 2\n",
      "code -> 2\n"
     ]
    }
   ],
   "source": [
    "#17\n",
    "text = \"hello world hello python hello code world code\"\n",
    "words = text.split()\n",
    "freq = {}\n",
    "for w in words:\n",
    "    if w in freq:\n",
    "        freq[w] += 1\n",
    "    else:\n",
    "        freq[w] = 1\n",
    "\n",
    "for _ in range(3):\n",
    "    max_word = None\n",
    "    max_count = 0\n",
    "    for w in freq:\n",
    "        if freq[w] > max_count:\n",
    "            max_count = freq[w]\n",
    "            max_word = w\n",
    "    print(max_word, \"->\", max_count)\n",
    "    freq[max_word] = -1\n"
   ]
  },
  {
   "cell_type": "code",
   "execution_count": 18,
   "metadata": {},
   "outputs": [
    {
     "name": "stdout",
     "output_type": "stream",
     "text": [
      "Items: ['apple', 'banana', 'cherry']\n",
      "Inventory: {'apple': {'stock': 10, 'price': 5}, 'banana': {'stock': 0, 'price': 3}, 'cherry': {'stock': 15, 'price': 7}}\n",
      "Out of stock: {'banana'}\n"
     ]
    }
   ],
   "source": [
    "#18\n",
    "items = [\"apple\", \"banana\", \"cherry\"]\n",
    "inventory = {\n",
    "    \"apple\": {\"stock\": 10, \"price\": 5},\n",
    "    \"banana\": {\"stock\": 0, \"price\": 3},\n",
    "    \"cherry\": {\"stock\": 15, \"price\": 7}\n",
    "}\n",
    "out_of_stock = set()\n",
    "for item in inventory:\n",
    "    if inventory[item][\"stock\"] == 0:\n",
    "        out_of_stock.add(item)\n",
    "\n",
    "print(\"Items:\", items)\n",
    "print(\"Inventory:\", inventory)\n",
    "print(\"Out of stock:\", out_of_stock)\n"
   ],
   "id": "946c0b08a76edd72"
  },
  {
   "cell_type": "code",
   "execution_count": 19,
   "id": "f6375ab2",
   "metadata": {},
   "outputs": [
    {
     "name": "stdout",
     "output_type": "stream",
     "text": [
      " sound\n",
      "Bark\n"
     ]
    }
   ],
   "source": [
    "#19\n",
    "class Animal:\n",
    "    def sound(self):\n",
    "        print(\" sound\")\n",
    "\n",
    "class Dog(Animal):\n",
    "    def sound(self):\n",
    "        print(\"Bark\")\n",
    "\n",
    "a = Animal()\n",
    "d = Dog()\n",
    "a.sound()\n",
    "d.sound()\n"
   ]
  },
  {
   "cell_type": "code",
   "execution_count": 20,
   "id": "71a931c5",
   "metadata": {},
   "outputs": [
    {
     "name": "stdout",
     "output_type": "stream",
     "text": [
      "Count: 2\n"
     ]
    }
   ],
   "source": [
    "#20\n",
    "class Counter:\n",
    "    count = 0  \n",
    "\n",
    "    def __init__(self):\n",
    "        Counter.count += 1\n",
    "\n",
    "    @staticmethod\n",
    "    def get_count():\n",
    "        print(\"Count:\", Counter.count)\n",
    "\n",
    "a = Counter()\n",
    "b = Counter()\n",
    "Counter.get_count()\n"
   ]
  }
 ],
 "metadata": {
  "kernelspec": {
   "display_name": "Python 3",
   "language": "python",
   "name": "python3"
  },
  "language_info": {
   "codemirror_mode": {
    "name": "ipython",
    "version": 3
   },
   "file_extension": ".py",
   "mimetype": "text/x-python",
   "name": "python",
   "nbconvert_exporter": "python",
   "pygments_lexer": "ipython3",
   "version": "3.10.0"
  }
 },
 "nbformat": 4,
 "nbformat_minor": 5
}
